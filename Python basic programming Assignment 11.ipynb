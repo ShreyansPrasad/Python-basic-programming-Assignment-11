{
 "cells": [
  {
   "cell_type": "markdown",
   "id": "2d038cd0",
   "metadata": {},
   "source": [
    "#Answer1"
   ]
  },
  {
   "cell_type": "code",
   "execution_count": 3,
   "id": "af314d2f",
   "metadata": {},
   "outputs": [
    {
     "name": "stdout",
     "output_type": "stream",
     "text": [
      "Enter word:i am happy\n",
      "Enter required length:5\n",
      "word is greater than k: i am happy\n"
     ]
    }
   ],
   "source": [
    "a=str(input(\"Enter word:\"))\n",
    "l=len(a)\n",
    "k=int(input(\"Enter required length:\"))\n",
    "if l>k:\n",
    "    print(\"word is greater than k:\",a)"
   ]
  },
  {
   "cell_type": "markdown",
   "id": "115e7bba",
   "metadata": {},
   "source": [
    "#Answer2"
   ]
  },
  {
   "cell_type": "code",
   "execution_count": 13,
   "id": "f9f39862",
   "metadata": {},
   "outputs": [
    {
     "name": "stdout",
     "output_type": "stream",
     "text": [
      "enter ith index:3\n",
      "string after removing ith character is: sheyans\n"
     ]
    }
   ],
   "source": [
    "a=\"shreyans\"\n",
    "i=int(input(\"enter ith index:\"))\n",
    "b=a[:i-1]+a[i:]\n",
    "print(\"string after removing ith character is:\",b)"
   ]
  },
  {
   "cell_type": "markdown",
   "id": "03791227",
   "metadata": {},
   "source": [
    "#Answer3"
   ]
  },
  {
   "cell_type": "code",
   "execution_count": 19,
   "id": "23445cd6",
   "metadata": {},
   "outputs": [
    {
     "name": "stdout",
     "output_type": "stream",
     "text": [
      "splitting of string: i am ha\n",
      "joining of string: i am happyshreyans\n"
     ]
    }
   ],
   "source": [
    "b=\"i am happy\"\n",
    "c=\"shreyans\"\n",
    "d=b[:7]\n",
    "e=b+c\n",
    "print(\"splitting of string:\", d)\n",
    "print(\"joining of string:\", e)"
   ]
  },
  {
   "cell_type": "markdown",
   "id": "06dd66e1",
   "metadata": {},
   "source": [
    "#Answer4"
   ]
  },
  {
   "cell_type": "code",
   "execution_count": 24,
   "id": "d2922281",
   "metadata": {},
   "outputs": [
    {
     "name": "stdout",
     "output_type": "stream",
     "text": [
      "string is binary\n"
     ]
    }
   ],
   "source": [
    "a=\"01011010100010\"\n",
    "p=1\n",
    "for i in a:\n",
    "    if i==\"0\" or i==\"1\":\n",
    "        pass\n",
    "    else:\n",
    "        p=2\n",
    "if p==1:\n",
    "    print(\"string is binary\")\n",
    "else:\n",
    "    print(\"string is not binary\")"
   ]
  },
  {
   "cell_type": "markdown",
   "id": "ea03bfa4",
   "metadata": {},
   "source": [
    "#Answer5"
   ]
  },
  {
   "cell_type": "code",
   "execution_count": 26,
   "id": "5c033e73",
   "metadata": {},
   "outputs": [
    {
     "name": "stdout",
     "output_type": "stream",
     "text": [
      "enter first string:shreyans\n",
      "enter second string:happy\n",
      "The uncommon words are:  srens\n"
     ]
    }
   ],
   "source": [
    "a=str(input(\"enter first string:\"))\n",
    "b=str(input(\"enter second string:\"))\n",
    "c=\"\"\n",
    "for i in a:\n",
    "    if i in b:\n",
    "        pass\n",
    "    else:\n",
    "        c=c+i\n",
    "print(\"The uncommon words are: \",c)"
   ]
  },
  {
   "cell_type": "markdown",
   "id": "823044a6",
   "metadata": {},
   "source": [
    "#Answer6"
   ]
  },
  {
   "cell_type": "code",
   "execution_count": 27,
   "id": "2209e051",
   "metadata": {},
   "outputs": [
    {
     "name": "stdout",
     "output_type": "stream",
     "text": [
      "enter string:shreyansprasad\n",
      "duplicate characters are: sra\n"
     ]
    }
   ],
   "source": [
    "a=str(input(\"enter string:\"))\n",
    "b=\"\"\n",
    "for i in a:\n",
    "    if a.count(i)>1 and i not in b:\n",
    "        b=b+i\n",
    "print(\"duplicate characters are:\", b)"
   ]
  },
  {
   "cell_type": "markdown",
   "id": "915fe328",
   "metadata": {},
   "source": [
    "#Answer7"
   ]
  },
  {
   "cell_type": "code",
   "execution_count": 30,
   "id": "620f4c6b",
   "metadata": {},
   "outputs": [
    {
     "name": "stdout",
     "output_type": "stream",
     "text": [
      "enter string:shreyans\n",
      "string does not contain special character\n"
     ]
    }
   ],
   "source": [
    "a=str(input(\"enter string:\"))\n",
    "s=\"!@#$%^&*()_-+=;:[]{}/?<>\"\n",
    "c=1\n",
    "for i in a:\n",
    "    if i in s:\n",
    "        c=2\n",
    "if c==2:\n",
    "    print(\"string contains special character\")\n",
    "else:\n",
    "    print(\"string does not contain special character\")"
   ]
  },
  {
   "cell_type": "code",
   "execution_count": null,
   "id": "f1afe2fe",
   "metadata": {},
   "outputs": [],
   "source": []
  }
 ],
 "metadata": {
  "kernelspec": {
   "display_name": "Python 3 (ipykernel)",
   "language": "python",
   "name": "python3"
  },
  "language_info": {
   "codemirror_mode": {
    "name": "ipython",
    "version": 3
   },
   "file_extension": ".py",
   "mimetype": "text/x-python",
   "name": "python",
   "nbconvert_exporter": "python",
   "pygments_lexer": "ipython3",
   "version": "3.9.7"
  }
 },
 "nbformat": 4,
 "nbformat_minor": 5
}
